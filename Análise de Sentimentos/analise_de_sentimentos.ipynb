{
 "cells": [
  {
   "cell_type": "markdown",
   "metadata": {},
   "source": [
    "Para o projeto de análise de sentimentos, é possível utilizar uma abordagem mais leve, empregando um modelo pré-treinado e simplificando o processo. A biblioteca NLTK será utilizada junto com o modelo VADER (Valence Aware Dictionary and sEntiment Reasoner), que é eficiente para a análise de sentimentos em textos curtos, como comentários em redes sociais ou análises de produtos."
   ]
  },
  {
   "cell_type": "markdown",
   "metadata": {},
   "source": [
    "### Projeto: Análise de Sentimentos com VADER\n",
    "Este projeto utiliza a biblioteca NLTK com o modelo VADER para classificar sentimentos em três categorias:\n",
    "\n",
    "- Positivo\n",
    "- Negativo\n",
    "- Neutro"
   ]
  },
  {
   "cell_type": "markdown",
   "metadata": {},
   "source": [
    "#### Instalação das Dependências\n",
    "Primeiro, instale a biblioteca NLTK:\n"
   ]
  },
  {
   "cell_type": "code",
   "execution_count": null,
   "metadata": {},
   "outputs": [],
   "source": [
    "pip install nltk"
   ]
  }
 ],
 "metadata": {
  "kernelspec": {
   "display_name": "Python 3",
   "language": "python",
   "name": "python3"
  },
  "language_info": {
   "codemirror_mode": {
    "name": "ipython",
    "version": 3
   },
   "file_extension": ".py",
   "mimetype": "text/x-python",
   "name": "python",
   "nbconvert_exporter": "python",
   "pygments_lexer": "ipython3",
   "version": "3.13.1"
  }
 },
 "nbformat": 4,
 "nbformat_minor": 2
}
